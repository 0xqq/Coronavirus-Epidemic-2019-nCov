{
 "cells": [
  {
   "cell_type": "code",
   "execution_count": 66,
   "metadata": {},
   "outputs": [],
   "source": [
    "import pandas as pd\n",
    "import csv\n",
    "import glob\n",
    "import os"
   ]
  },
  {
   "cell_type": "code",
   "execution_count": 67,
   "metadata": {},
   "outputs": [],
   "source": [
    "def data_cleaning(folder_path,stored_path):\n",
    "    \"\"\"\n",
    "    Combined data from multiple files withing the given folder, and restore them\n",
    "    \"\"\"\n",
    "    all_filenames=[i for i in glob.glob(folder_path)]\n",
    "    combined_csv=pd.concat([pd.read_csv(f) for f in all_filenames],ignore_index=True)\n",
    "    combined_csv=combined_csv.sort_values(by=[\"地区\",\"时间\"])\n",
    "    combined_csv=combined_csv.rename(columns={\"时间\":\"Date\",\"地区\":\"Region\",\"确诊\":\"Confirmed\"})\n",
    "    combined_csv=combined_csv.assign(Suspected=\"\",Recovered=\"\",Death=\"\")\n",
    "    cleaned_data=combined_csv.to_csv(stored_path,header=True,index=False)\n",
    "    return cleaned_data"
   ]
  },
  {
   "cell_type": "code",
   "execution_count": 72,
   "metadata": {},
   "outputs": [],
   "source": [
    "folder_path_china=\"../data/China/*.csv\"\n",
    "stored_path_china=\"../Data_processing/combined_china.csv\"\n",
    "folder_path_international=\"../data/International/*.csv\"\n",
    "stored_path_international=\"../Data_processing/combined_international.csv\""
   ]
  },
  {
   "cell_type": "code",
   "execution_count": 73,
   "metadata": {},
   "outputs": [],
   "source": [
    "data_cleaning(folder_path_china,stored_path_china)"
   ]
  },
  {
   "cell_type": "code",
   "execution_count": 74,
   "metadata": {},
   "outputs": [],
   "source": [
    "data_cleaning(folder_path_international,stored_path_international)"
   ]
  },
  {
   "cell_type": "code",
   "execution_count": null,
   "metadata": {},
   "outputs": [],
   "source": []
  }
 ],
 "metadata": {
  "kernelspec": {
   "display_name": "Python 3",
   "language": "python",
   "name": "python3"
  },
  "language_info": {
   "codemirror_mode": {
    "name": "ipython",
    "version": 3
   },
   "file_extension": ".py",
   "mimetype": "text/x-python",
   "name": "python",
   "nbconvert_exporter": "python",
   "pygments_lexer": "ipython3",
   "version": "3.7.3"
  }
 },
 "nbformat": 4,
 "nbformat_minor": 4
}
