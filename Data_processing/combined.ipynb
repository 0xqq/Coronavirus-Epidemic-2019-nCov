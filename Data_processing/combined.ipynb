{
 "cells": [
  {
   "cell_type": "code",
   "execution_count": 134,
   "metadata": {},
   "outputs": [],
   "source": [
    "import pandas as pd\n",
    "import csv\n",
    "import glob\n",
    "import os"
   ]
  },
  {
   "cell_type": "code",
   "execution_count": 195,
   "metadata": {},
   "outputs": [],
   "source": [
    "def data_cleaning(folder_path,stored_path):\n",
    "    all_filenames=[i for i in glob.glob(folder_path)]\n",
    "    combined_csv=pd.concat([pd.read_csv(f) for f in all_filenames],ignore_index=True,sort=False)\n",
    "    combined_csv[\"Last Update\"]=pd.to_datetime(combined_csv[\"Last Update\"])\n",
    "    combined_csv=combined_csv.sort_values(by=[\"Last Update\"])\n",
    "    combined_csv[\"Day\"]=[d.date() for d in combined_csv[\"Last Update\"]]\n",
    "    combined_csv[\"Time\"]=[d.time() for d in combined_csv[\"Last Update\"]]\n",
    "    combined_csv=combined_csv[[\"Province/State\",'Country/Region',\"Day\",\"Time\",\"Confirmed\",\"Suspected\",\"Recovered\",\"Deaths\",\"Demised\"]]\n",
    "    idx=combined_csv.groupby(\"Day\")[\"Time\"].transform(max)==combined_csv[\"Time\"]\n",
    "    combined_csv=combined_csv[idx]\n",
    "    cleaned_data=combined_csv.to_csv(stored_path,header=True,index=False)\n",
    "    return cleaned_data"
   ]
  },
  {
   "cell_type": "code",
   "execution_count": 196,
   "metadata": {},
   "outputs": [],
   "source": [
    "folder_path=\"../coronavirus-ds/data/*.csv\"\n",
    "stored_path=\"../Data_processing/combined.csv\""
   ]
  },
  {
   "cell_type": "code",
   "execution_count": 197,
   "metadata": {},
   "outputs": [],
   "source": [
    "data_cleaning(folder_path,stored_path)"
   ]
  },
  {
   "cell_type": "code",
   "execution_count": null,
   "metadata": {},
   "outputs": [],
   "source": []
  }
 ],
 "metadata": {
  "kernelspec": {
   "display_name": "Python 3",
   "language": "python",
   "name": "python3"
  },
  "language_info": {
   "codemirror_mode": {
    "name": "ipython",
    "version": 3
   },
   "file_extension": ".py",
   "mimetype": "text/x-python",
   "name": "python",
   "nbconvert_exporter": "python",
   "pygments_lexer": "ipython3",
   "version": "3.7.3"
  }
 },
 "nbformat": 4,
 "nbformat_minor": 4
}
