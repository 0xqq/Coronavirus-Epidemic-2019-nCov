{
 "cells": [
  {
   "cell_type": "code",
   "execution_count": 1,
   "metadata": {},
   "outputs": [],
   "source": [
    "## Reference by https://github.com/pdtyreus/coronavirus-ds\n",
    "\n",
    "import pickle\n",
    "import os.path\n",
    "import csv\n",
    "from googleapiclient.discovery import build\n",
    "from google_auth_oauthlib.flow import InstalledAppFlow\n",
    "from google.auth.transport.requests import Request\n",
    "import pandas as pd\n",
    "import glob\n",
    "import os\n"
   ]
  },
  {
   "cell_type": "code",
   "execution_count": 2,
   "metadata": {},
   "outputs": [],
   "source": [
    "def data_cleaning(folder_path,stored_path):\n",
    "    \"\"\"Merge all datasets (different dates), \n",
    "    saved in `rawData` to `mergedData` folder\n",
    "    \"\"\"\n",
    "    all_filenames=[i for i in glob.glob(folder_path)]\n",
    "    combined_csv=pd.concat([pd.read_csv(f) for f in all_filenames],ignore_index=True,sort=False)\n",
    "    combined_csv[\"Last Update\"]=pd.to_datetime(combined_csv[\"Last Update\"])\n",
    "    combined_csv=combined_csv.sort_values(by=[\"Last Update\"])\n",
    "    combined_csv[\"Day\"]=[d.date() for d in combined_csv[\"Last Update\"]]\n",
    "    combined_csv[\"Time\"]=[d.time() for d in combined_csv[\"Last Update\"]]\n",
    "    combined_csv=combined_csv[[\"Province/State\",'Country/Region',\"Day\",\"Time\",\"Confirmed\",\n",
    "                               \"Suspected\",\"Recovered\",\"Deaths\",\"Demised\"]]\n",
    "    idx=combined_csv.groupby(\"Day\")[\"Time\"].transform(max)==combined_csv[\"Time\"]\n",
    "    combined_csv=combined_csv[idx]\n",
    "    cleaned_data=combined_csv.to_csv(stored_path,header=True,index=False)\n",
    "    print(\"Saved merged dataset to mergedData/combined.csv\")"
   ]
  },
  {
   "cell_type": "code",
   "execution_count": null,
   "metadata": {},
   "outputs": [],
   "source": [
    "# merge all dataset to one csv\n",
    "folder_path=\"rawData/*.csv\"\n",
    "data_cleaning(folder_path,stored_path =\"mergedData/combined.csv\")"
   ]
  }
 ],
 "metadata": {
  "kernelspec": {
   "display_name": "Python 3",
   "language": "python",
   "name": "python3"
  },
  "language_info": {
   "codemirror_mode": {
    "name": "ipython",
    "version": 3
   },
   "file_extension": ".py",
   "mimetype": "text/x-python",
   "name": "python",
   "nbconvert_exporter": "python",
   "pygments_lexer": "ipython3",
   "version": "3.7.3"
  }
 },
 "nbformat": 4,
 "nbformat_minor": 2
}
